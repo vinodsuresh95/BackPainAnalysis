{
 "cells": [
  {
   "cell_type": "code",
   "execution_count": 163,
   "id": "941ed384",
   "metadata": {},
   "outputs": [],
   "source": [
    "# Import the necessary packages to runtime\n",
    "import scipy.stats as stats\n",
    "import zipcodes as zcode\n",
    "import pandas as pd\n",
    "import numpy as np\n",
    "import matplotlib.pyplot as plt\n",
    "%matplotlib inline\n",
    "import seaborn as sns\n",
    "import warnings\n",
    "import statsmodels.api as sm\n",
    "\n",
    "#SkLearn library\n",
    "from sklearn.metrics import confusion_matrix, classification_report\n",
    "from sklearn.metrics import accuracy_score, precision_score, recall_score, f1_score\n",
    "from statsmodels.stats.outliers_influence import variance_inflation_factor\n",
    "from sklearn import metrics\n",
    "from sklearn.model_selection import train_test_split\n",
    "\n",
    "#AUC ROC Curve\n",
    "from sklearn.metrics import roc_auc_score\n",
    "from sklearn.metrics import roc_curve\n",
    "from sklearn.metrics import precision_recall_curve\n",
    "\n",
    "# To plot confusion matrix\n",
    "from sklearn.metrics import confusion_matrix, ConfusionMatrixDisplay \n",
    "from sklearn.metrics import plot_confusion_matrix\n",
    "\n",
    "# To tune different models\n",
    "from sklearn.model_selection import GridSearchCV\n",
    "\n",
    "# Build Model and Decision tree imports\n",
    "from sklearn.linear_model import LogisticRegression \n",
    "from sklearn.tree import DecisionTreeClassifier \n",
    "\n",
    "# To get diferent metric scores\n",
    "from sklearn.metrics import (\n",
    "    f1_score,\n",
    "    accuracy_score,\n",
    "    recall_score,\n",
    "    precision_score,\n",
    "    confusion_matrix,\n",
    "    plot_confusion_matrix,\n",
    "    make_scorer,\n",
    ")\n",
    "\n",
    "pd.set_option('display.float_format', lambda x: '%.5f' % x)\n",
    "pd.set_option('display.max_rows', 300)\n",
    "pd.set_option('display.max_colwidth', 400)\n",
    "\n",
    "warnings.filterwarnings('ignore')\n",
    "\n",
    "plt.style.use('ggplot')"
   ]
  },
  {
   "cell_type": "code",
   "execution_count": 164,
   "id": "8559bc4b",
   "metadata": {},
   "outputs": [],
   "source": [
    "df = pd.read_csv('backpain.csv')"
   ]
  },
  {
   "cell_type": "code",
   "execution_count": 165,
   "id": "2bd33dc2",
   "metadata": {},
   "outputs": [
    {
     "data": {
      "text/html": [
       "<div>\n",
       "<style scoped>\n",
       "    .dataframe tbody tr th:only-of-type {\n",
       "        vertical-align: middle;\n",
       "    }\n",
       "\n",
       "    .dataframe tbody tr th {\n",
       "        vertical-align: top;\n",
       "    }\n",
       "\n",
       "    .dataframe thead th {\n",
       "        text-align: right;\n",
       "    }\n",
       "</style>\n",
       "<table border=\"1\" class=\"dataframe\">\n",
       "  <thead>\n",
       "    <tr style=\"text-align: right;\">\n",
       "      <th></th>\n",
       "      <th>pelvic_incidence</th>\n",
       "      <th>pelvic tilt</th>\n",
       "      <th>lumbar_lordosis_angle</th>\n",
       "      <th>sacral_slope</th>\n",
       "      <th>pelvic_radius</th>\n",
       "      <th>degree_spondylolisthesis</th>\n",
       "      <th>pelvic_slope</th>\n",
       "      <th>Direct_tilt</th>\n",
       "      <th>thoracic_slope</th>\n",
       "      <th>cervical_tilt</th>\n",
       "      <th>sacrum_angle</th>\n",
       "      <th>scoliosis_slope</th>\n",
       "      <th>Status</th>\n",
       "    </tr>\n",
       "  </thead>\n",
       "  <tbody>\n",
       "    <tr>\n",
       "      <th>0</th>\n",
       "      <td>63.02782</td>\n",
       "      <td>22.55259</td>\n",
       "      <td>39.60912</td>\n",
       "      <td>40.47523</td>\n",
       "      <td>98.67292</td>\n",
       "      <td>-0.25440</td>\n",
       "      <td>0.74450</td>\n",
       "      <td>12.56610</td>\n",
       "      <td>14.53860</td>\n",
       "      <td>15.30468</td>\n",
       "      <td>-28.65850</td>\n",
       "      <td>43.51230</td>\n",
       "      <td>Abnormal</td>\n",
       "    </tr>\n",
       "    <tr>\n",
       "      <th>1</th>\n",
       "      <td>39.05695</td>\n",
       "      <td>10.06099</td>\n",
       "      <td>25.01538</td>\n",
       "      <td>28.99596</td>\n",
       "      <td>114.40543</td>\n",
       "      <td>4.56426</td>\n",
       "      <td>0.41519</td>\n",
       "      <td>12.88740</td>\n",
       "      <td>17.53230</td>\n",
       "      <td>16.78486</td>\n",
       "      <td>-25.53061</td>\n",
       "      <td>16.11020</td>\n",
       "      <td>Abnormal</td>\n",
       "    </tr>\n",
       "    <tr>\n",
       "      <th>2</th>\n",
       "      <td>68.83202</td>\n",
       "      <td>22.21848</td>\n",
       "      <td>50.09219</td>\n",
       "      <td>46.61354</td>\n",
       "      <td>105.98514</td>\n",
       "      <td>-3.53032</td>\n",
       "      <td>0.47489</td>\n",
       "      <td>26.83430</td>\n",
       "      <td>17.48610</td>\n",
       "      <td>16.65897</td>\n",
       "      <td>-29.03189</td>\n",
       "      <td>19.22210</td>\n",
       "      <td>Abnormal</td>\n",
       "    </tr>\n",
       "    <tr>\n",
       "      <th>3</th>\n",
       "      <td>69.29701</td>\n",
       "      <td>24.65288</td>\n",
       "      <td>44.31124</td>\n",
       "      <td>44.64413</td>\n",
       "      <td>101.86850</td>\n",
       "      <td>11.21152</td>\n",
       "      <td>0.36935</td>\n",
       "      <td>23.56030</td>\n",
       "      <td>12.70740</td>\n",
       "      <td>11.42447</td>\n",
       "      <td>-30.47025</td>\n",
       "      <td>18.83290</td>\n",
       "      <td>Abnormal</td>\n",
       "    </tr>\n",
       "    <tr>\n",
       "      <th>4</th>\n",
       "      <td>49.71286</td>\n",
       "      <td>9.65207</td>\n",
       "      <td>28.31741</td>\n",
       "      <td>40.06078</td>\n",
       "      <td>108.16872</td>\n",
       "      <td>7.91850</td>\n",
       "      <td>0.54336</td>\n",
       "      <td>35.49400</td>\n",
       "      <td>15.95460</td>\n",
       "      <td>8.87237</td>\n",
       "      <td>-16.37838</td>\n",
       "      <td>24.91710</td>\n",
       "      <td>Abnormal</td>\n",
       "    </tr>\n",
       "  </tbody>\n",
       "</table>\n",
       "</div>"
      ],
      "text/plain": [
       "   pelvic_incidence  pelvic tilt  lumbar_lordosis_angle  sacral_slope  \\\n",
       "0          63.02782     22.55259               39.60912      40.47523   \n",
       "1          39.05695     10.06099               25.01538      28.99596   \n",
       "2          68.83202     22.21848               50.09219      46.61354   \n",
       "3          69.29701     24.65288               44.31124      44.64413   \n",
       "4          49.71286      9.65207               28.31741      40.06078   \n",
       "\n",
       "   pelvic_radius  degree_spondylolisthesis  pelvic_slope  Direct_tilt  \\\n",
       "0       98.67292                  -0.25440       0.74450     12.56610   \n",
       "1      114.40543                   4.56426       0.41519     12.88740   \n",
       "2      105.98514                  -3.53032       0.47489     26.83430   \n",
       "3      101.86850                  11.21152       0.36935     23.56030   \n",
       "4      108.16872                   7.91850       0.54336     35.49400   \n",
       "\n",
       "   thoracic_slope  cervical_tilt  sacrum_angle  scoliosis_slope    Status  \n",
       "0        14.53860       15.30468     -28.65850         43.51230  Abnormal  \n",
       "1        17.53230       16.78486     -25.53061         16.11020  Abnormal  \n",
       "2        17.48610       16.65897     -29.03189         19.22210  Abnormal  \n",
       "3        12.70740       11.42447     -30.47025         18.83290  Abnormal  \n",
       "4        15.95460        8.87237     -16.37838         24.91710  Abnormal  "
      ]
     },
     "execution_count": 165,
     "metadata": {},
     "output_type": "execute_result"
    }
   ],
   "source": [
    "df.head()"
   ]
  },
  {
   "cell_type": "code",
   "execution_count": 166,
   "id": "48f7c7db",
   "metadata": {},
   "outputs": [
    {
     "name": "stdout",
     "output_type": "stream",
     "text": [
      "<class 'pandas.core.frame.DataFrame'>\n",
      "RangeIndex: 310 entries, 0 to 309\n",
      "Data columns (total 13 columns):\n",
      " #   Column                    Non-Null Count  Dtype  \n",
      "---  ------                    --------------  -----  \n",
      " 0   pelvic_incidence          310 non-null    float64\n",
      " 1   pelvic tilt               310 non-null    float64\n",
      " 2   lumbar_lordosis_angle     310 non-null    float64\n",
      " 3   sacral_slope              310 non-null    float64\n",
      " 4   pelvic_radius             310 non-null    float64\n",
      " 5   degree_spondylolisthesis  310 non-null    float64\n",
      " 6   pelvic_slope              310 non-null    float64\n",
      " 7   Direct_tilt               310 non-null    float64\n",
      " 8   thoracic_slope            310 non-null    float64\n",
      " 9   cervical_tilt             310 non-null    float64\n",
      " 10  sacrum_angle              310 non-null    float64\n",
      " 11  scoliosis_slope           310 non-null    float64\n",
      " 12  Status                    310 non-null    object \n",
      "dtypes: float64(12), object(1)\n",
      "memory usage: 31.6+ KB\n"
     ]
    }
   ],
   "source": [
    "df.info()"
   ]
  },
  {
   "cell_type": "code",
   "execution_count": 167,
   "id": "1e8ee412",
   "metadata": {},
   "outputs": [
    {
     "data": {
      "image/png": "[encoded data removed]",
      "text/plain": [
       "<Figure size 1080x1080 with 2 Axes>"
      ]
     },
     "metadata": {},
     "output_type": "display_data"
    }
   ],
   "source": [
    "plt.figure(figsize=(15,15))\n",
    "p=sns.heatmap(df.corr(), annot=True,cmap='RdYlGn') "
   ]
  },
  {
   "cell_type": "code",
   "execution_count": 168,
   "id": "c8e0b197",
   "metadata": {},
   "outputs": [],
   "source": [
    "df['Status'].replace({'Abnormal':1, 'Normal':0}, inplace=True)"
   ]
  },
  {
   "cell_type": "code",
   "execution_count": 169,
   "id": "a8a4449b",
   "metadata": {},
   "outputs": [
    {
     "data": {
      "text/plain": [
       "1    210\n",
       "0    100\n",
       "Name: Status, dtype: int64"
      ]
     },
     "execution_count": 169,
     "metadata": {},
     "output_type": "execute_result"
    }
   ],
   "source": [
    "df.Status.value_counts()"
   ]
  },
  {
   "cell_type": "code",
   "execution_count": 170,
   "id": "74003585",
   "metadata": {},
   "outputs": [
    {
     "data": {
      "text/html": [
       "<div>\n",
       "<style scoped>\n",
       "    .dataframe tbody tr th:only-of-type {\n",
       "        vertical-align: middle;\n",
       "    }\n",
       "\n",
       "    .dataframe tbody tr th {\n",
       "        vertical-align: top;\n",
       "    }\n",
       "\n",
       "    .dataframe thead th {\n",
       "        text-align: right;\n",
       "    }\n",
       "</style>\n",
       "<table border=\"1\" class=\"dataframe\">\n",
       "  <thead>\n",
       "    <tr style=\"text-align: right;\">\n",
       "      <th></th>\n",
       "      <th>pelvic_incidence</th>\n",
       "      <th>pelvic tilt</th>\n",
       "      <th>lumbar_lordosis_angle</th>\n",
       "      <th>sacral_slope</th>\n",
       "      <th>pelvic_radius</th>\n",
       "      <th>degree_spondylolisthesis</th>\n",
       "      <th>pelvic_slope</th>\n",
       "      <th>Direct_tilt</th>\n",
       "      <th>thoracic_slope</th>\n",
       "      <th>cervical_tilt</th>\n",
       "      <th>sacrum_angle</th>\n",
       "      <th>scoliosis_slope</th>\n",
       "      <th>Status</th>\n",
       "    </tr>\n",
       "  </thead>\n",
       "  <tbody>\n",
       "    <tr>\n",
       "      <th>0</th>\n",
       "      <td>63.02782</td>\n",
       "      <td>22.55259</td>\n",
       "      <td>39.60912</td>\n",
       "      <td>40.47523</td>\n",
       "      <td>98.67292</td>\n",
       "      <td>-0.25440</td>\n",
       "      <td>0.74450</td>\n",
       "      <td>12.56610</td>\n",
       "      <td>14.53860</td>\n",
       "      <td>15.30468</td>\n",
       "      <td>-28.65850</td>\n",
       "      <td>43.51230</td>\n",
       "      <td>1</td>\n",
       "    </tr>\n",
       "    <tr>\n",
       "      <th>1</th>\n",
       "      <td>39.05695</td>\n",
       "      <td>10.06099</td>\n",
       "      <td>25.01538</td>\n",
       "      <td>28.99596</td>\n",
       "      <td>114.40543</td>\n",
       "      <td>4.56426</td>\n",
       "      <td>0.41519</td>\n",
       "      <td>12.88740</td>\n",
       "      <td>17.53230</td>\n",
       "      <td>16.78486</td>\n",
       "      <td>-25.53061</td>\n",
       "      <td>16.11020</td>\n",
       "      <td>1</td>\n",
       "    </tr>\n",
       "    <tr>\n",
       "      <th>2</th>\n",
       "      <td>68.83202</td>\n",
       "      <td>22.21848</td>\n",
       "      <td>50.09219</td>\n",
       "      <td>46.61354</td>\n",
       "      <td>105.98514</td>\n",
       "      <td>-3.53032</td>\n",
       "      <td>0.47489</td>\n",
       "      <td>26.83430</td>\n",
       "      <td>17.48610</td>\n",
       "      <td>16.65897</td>\n",
       "      <td>-29.03189</td>\n",
       "      <td>19.22210</td>\n",
       "      <td>1</td>\n",
       "    </tr>\n",
       "    <tr>\n",
       "      <th>3</th>\n",
       "      <td>69.29701</td>\n",
       "      <td>24.65288</td>\n",
       "      <td>44.31124</td>\n",
       "      <td>44.64413</td>\n",
       "      <td>101.86850</td>\n",
       "      <td>11.21152</td>\n",
       "      <td>0.36935</td>\n",
       "      <td>23.56030</td>\n",
       "      <td>12.70740</td>\n",
       "      <td>11.42447</td>\n",
       "      <td>-30.47025</td>\n",
       "      <td>18.83290</td>\n",
       "      <td>1</td>\n",
       "    </tr>\n",
       "    <tr>\n",
       "      <th>4</th>\n",
       "      <td>49.71286</td>\n",
       "      <td>9.65207</td>\n",
       "      <td>28.31741</td>\n",
       "      <td>40.06078</td>\n",
       "      <td>108.16872</td>\n",
       "      <td>7.91850</td>\n",
       "      <td>0.54336</td>\n",
       "      <td>35.49400</td>\n",
       "      <td>15.95460</td>\n",
       "      <td>8.87237</td>\n",
       "      <td>-16.37838</td>\n",
       "      <td>24.91710</td>\n",
       "      <td>1</td>\n",
       "    </tr>\n",
       "  </tbody>\n",
       "</table>\n",
       "</div>"
      ],
      "text/plain": [
       "   pelvic_incidence  pelvic tilt  lumbar_lordosis_angle  sacral_slope  \\\n",
       "0          63.02782     22.55259               39.60912      40.47523   \n",
       "1          39.05695     10.06099               25.01538      28.99596   \n",
       "2          68.83202     22.21848               50.09219      46.61354   \n",
       "3          69.29701     24.65288               44.31124      44.64413   \n",
       "4          49.71286      9.65207               28.31741      40.06078   \n",
       "\n",
       "   pelvic_radius  degree_spondylolisthesis  pelvic_slope  Direct_tilt  \\\n",
       "0       98.67292                  -0.25440       0.74450     12.56610   \n",
       "1      114.40543                   4.56426       0.41519     12.88740   \n",
       "2      105.98514                  -3.53032       0.47489     26.83430   \n",
       "3      101.86850                  11.21152       0.36935     23.56030   \n",
       "4      108.16872                   7.91850       0.54336     35.49400   \n",
       "\n",
       "   thoracic_slope  cervical_tilt  sacrum_angle  scoliosis_slope  Status  \n",
       "0        14.53860       15.30468     -28.65850         43.51230       1  \n",
       "1        17.53230       16.78486     -25.53061         16.11020       1  \n",
       "2        17.48610       16.65897     -29.03189         19.22210       1  \n",
       "3        12.70740       11.42447     -30.47025         18.83290       1  \n",
       "4        15.95460        8.87237     -16.37838         24.91710       1  "
      ]
     },
     "execution_count": 170,
     "metadata": {},
     "output_type": "execute_result"
    }
   ],
   "source": [
    "df.head()"
   ]
  },
  {
   "cell_type": "code",
   "execution_count": 171,
   "id": "d9f5793c",
   "metadata": {},
   "outputs": [
    {
     "data": {
      "text/html": [
       "<div>\n",
       "<style scoped>\n",
       "    .dataframe tbody tr th:only-of-type {\n",
       "        vertical-align: middle;\n",
       "    }\n",
       "\n",
       "    .dataframe tbody tr th {\n",
       "        vertical-align: top;\n",
       "    }\n",
       "\n",
       "    .dataframe thead th {\n",
       "        text-align: right;\n",
       "    }\n",
       "</style>\n",
       "<table border=\"1\" class=\"dataframe\">\n",
       "  <thead>\n",
       "    <tr style=\"text-align: right;\">\n",
       "      <th></th>\n",
       "      <th>pelvic_incidence</th>\n",
       "      <th>pelvic tilt</th>\n",
       "      <th>lumbar_lordosis_angle</th>\n",
       "      <th>sacral_slope</th>\n",
       "      <th>pelvic_radius</th>\n",
       "      <th>degree_spondylolisthesis</th>\n",
       "      <th>pelvic_slope</th>\n",
       "      <th>Direct_tilt</th>\n",
       "      <th>thoracic_slope</th>\n",
       "      <th>cervical_tilt</th>\n",
       "      <th>sacrum_angle</th>\n",
       "      <th>scoliosis_slope</th>\n",
       "      <th>Status</th>\n",
       "    </tr>\n",
       "  </thead>\n",
       "  <tbody>\n",
       "    <tr>\n",
       "      <th>305</th>\n",
       "      <td>47.90357</td>\n",
       "      <td>13.61669</td>\n",
       "      <td>36.00000</td>\n",
       "      <td>34.28688</td>\n",
       "      <td>117.44906</td>\n",
       "      <td>-4.24540</td>\n",
       "      <td>0.12974</td>\n",
       "      <td>7.84330</td>\n",
       "      <td>14.74840</td>\n",
       "      <td>8.51707</td>\n",
       "      <td>-15.72893</td>\n",
       "      <td>11.54720</td>\n",
       "      <td>0</td>\n",
       "    </tr>\n",
       "    <tr>\n",
       "      <th>306</th>\n",
       "      <td>53.93675</td>\n",
       "      <td>20.72150</td>\n",
       "      <td>29.22053</td>\n",
       "      <td>33.21525</td>\n",
       "      <td>114.36584</td>\n",
       "      <td>-0.42101</td>\n",
       "      <td>0.04791</td>\n",
       "      <td>19.19860</td>\n",
       "      <td>18.19720</td>\n",
       "      <td>7.08745</td>\n",
       "      <td>6.01384</td>\n",
       "      <td>43.86930</td>\n",
       "      <td>0</td>\n",
       "    </tr>\n",
       "    <tr>\n",
       "      <th>307</th>\n",
       "      <td>61.44660</td>\n",
       "      <td>22.69497</td>\n",
       "      <td>46.17035</td>\n",
       "      <td>38.75163</td>\n",
       "      <td>125.67072</td>\n",
       "      <td>-2.70788</td>\n",
       "      <td>0.08107</td>\n",
       "      <td>16.20590</td>\n",
       "      <td>13.55650</td>\n",
       "      <td>8.89572</td>\n",
       "      <td>3.56446</td>\n",
       "      <td>18.41510</td>\n",
       "      <td>0</td>\n",
       "    </tr>\n",
       "    <tr>\n",
       "      <th>308</th>\n",
       "      <td>45.25279</td>\n",
       "      <td>8.69316</td>\n",
       "      <td>41.58313</td>\n",
       "      <td>36.55963</td>\n",
       "      <td>118.54584</td>\n",
       "      <td>0.21475</td>\n",
       "      <td>0.15925</td>\n",
       "      <td>14.73340</td>\n",
       "      <td>16.09280</td>\n",
       "      <td>9.75922</td>\n",
       "      <td>5.76731</td>\n",
       "      <td>33.71920</td>\n",
       "      <td>0</td>\n",
       "    </tr>\n",
       "    <tr>\n",
       "      <th>309</th>\n",
       "      <td>33.84164</td>\n",
       "      <td>5.07399</td>\n",
       "      <td>36.64123</td>\n",
       "      <td>28.76765</td>\n",
       "      <td>123.94524</td>\n",
       "      <td>-0.19925</td>\n",
       "      <td>0.67450</td>\n",
       "      <td>19.38250</td>\n",
       "      <td>17.69630</td>\n",
       "      <td>13.72929</td>\n",
       "      <td>1.78301</td>\n",
       "      <td>40.60490</td>\n",
       "      <td>0</td>\n",
       "    </tr>\n",
       "  </tbody>\n",
       "</table>\n",
       "</div>"
      ],
      "text/plain": [
       "     pelvic_incidence  pelvic tilt  lumbar_lordosis_angle  sacral_slope  \\\n",
       "305          47.90357     13.61669               36.00000      34.28688   \n",
       "306          53.93675     20.72150               29.22053      33.21525   \n",
       "307          61.44660     22.69497               46.17035      38.75163   \n",
       "308          45.25279      8.69316               41.58313      36.55963   \n",
       "309          33.84164      5.07399               36.64123      28.76765   \n",
       "\n",
       "     pelvic_radius  degree_spondylolisthesis  pelvic_slope  Direct_tilt  \\\n",
       "305      117.44906                  -4.24540       0.12974      7.84330   \n",
       "306      114.36584                  -0.42101       0.04791     19.19860   \n",
       "307      125.67072                  -2.70788       0.08107     16.20590   \n",
       "308      118.54584                   0.21475       0.15925     14.73340   \n",
       "309      123.94524                  -0.19925       0.67450     19.38250   \n",
       "\n",
       "     thoracic_slope  cervical_tilt  sacrum_angle  scoliosis_slope  Status  \n",
       "305        14.74840        8.51707     -15.72893         11.54720       0  \n",
       "306        18.19720        7.08745       6.01384         43.86930       0  \n",
       "307        13.55650        8.89572       3.56446         18.41510       0  \n",
       "308        16.09280        9.75922       5.76731         33.71920       0  \n",
       "309        17.69630       13.72929       1.78301         40.60490       0  "
      ]
     },
     "execution_count": 171,
     "metadata": {},
     "output_type": "execute_result"
    }
   ],
   "source": [
    "df.tail()"
   ]
  },
  {
   "cell_type": "code",
   "execution_count": 172,
   "id": "a48f12e8",
   "metadata": {},
   "outputs": [],
   "source": [
    "X = df.drop(['Status'],axis = 1)\n",
    "Y = df['Status']"
   ]
  },
  {
   "cell_type": "code",
   "execution_count": 173,
   "id": "2b0193af",
   "metadata": {},
   "outputs": [
    {
     "data": {
      "text/html": [
       "<div>\n",
       "<style scoped>\n",
       "    .dataframe tbody tr th:only-of-type {\n",
       "        vertical-align: middle;\n",
       "    }\n",
       "\n",
       "    .dataframe tbody tr th {\n",
       "        vertical-align: top;\n",
       "    }\n",
       "\n",
       "    .dataframe thead th {\n",
       "        text-align: right;\n",
       "    }\n",
       "</style>\n",
       "<table border=\"1\" class=\"dataframe\">\n",
       "  <thead>\n",
       "    <tr style=\"text-align: right;\">\n",
       "      <th></th>\n",
       "      <th>pelvic_incidence</th>\n",
       "      <th>pelvic tilt</th>\n",
       "      <th>lumbar_lordosis_angle</th>\n",
       "      <th>sacral_slope</th>\n",
       "      <th>pelvic_radius</th>\n",
       "      <th>degree_spondylolisthesis</th>\n",
       "      <th>pelvic_slope</th>\n",
       "      <th>Direct_tilt</th>\n",
       "      <th>thoracic_slope</th>\n",
       "      <th>cervical_tilt</th>\n",
       "      <th>sacrum_angle</th>\n",
       "      <th>scoliosis_slope</th>\n",
       "    </tr>\n",
       "  </thead>\n",
       "  <tbody>\n",
       "    <tr>\n",
       "      <th>0</th>\n",
       "      <td>63.02782</td>\n",
       "      <td>22.55259</td>\n",
       "      <td>39.60912</td>\n",
       "      <td>40.47523</td>\n",
       "      <td>98.67292</td>\n",
       "      <td>-0.25440</td>\n",
       "      <td>0.74450</td>\n",
       "      <td>12.56610</td>\n",
       "      <td>14.53860</td>\n",
       "      <td>15.30468</td>\n",
       "      <td>-28.65850</td>\n",
       "      <td>43.51230</td>\n",
       "    </tr>\n",
       "    <tr>\n",
       "      <th>1</th>\n",
       "      <td>39.05695</td>\n",
       "      <td>10.06099</td>\n",
       "      <td>25.01538</td>\n",
       "      <td>28.99596</td>\n",
       "      <td>114.40543</td>\n",
       "      <td>4.56426</td>\n",
       "      <td>0.41519</td>\n",
       "      <td>12.88740</td>\n",
       "      <td>17.53230</td>\n",
       "      <td>16.78486</td>\n",
       "      <td>-25.53061</td>\n",
       "      <td>16.11020</td>\n",
       "    </tr>\n",
       "    <tr>\n",
       "      <th>2</th>\n",
       "      <td>68.83202</td>\n",
       "      <td>22.21848</td>\n",
       "      <td>50.09219</td>\n",
       "      <td>46.61354</td>\n",
       "      <td>105.98514</td>\n",
       "      <td>-3.53032</td>\n",
       "      <td>0.47489</td>\n",
       "      <td>26.83430</td>\n",
       "      <td>17.48610</td>\n",
       "      <td>16.65897</td>\n",
       "      <td>-29.03189</td>\n",
       "      <td>19.22210</td>\n",
       "    </tr>\n",
       "    <tr>\n",
       "      <th>3</th>\n",
       "      <td>69.29701</td>\n",
       "      <td>24.65288</td>\n",
       "      <td>44.31124</td>\n",
       "      <td>44.64413</td>\n",
       "      <td>101.86850</td>\n",
       "      <td>11.21152</td>\n",
       "      <td>0.36935</td>\n",
       "      <td>23.56030</td>\n",
       "      <td>12.70740</td>\n",
       "      <td>11.42447</td>\n",
       "      <td>-30.47025</td>\n",
       "      <td>18.83290</td>\n",
       "    </tr>\n",
       "    <tr>\n",
       "      <th>4</th>\n",
       "      <td>49.71286</td>\n",
       "      <td>9.65207</td>\n",
       "      <td>28.31741</td>\n",
       "      <td>40.06078</td>\n",
       "      <td>108.16872</td>\n",
       "      <td>7.91850</td>\n",
       "      <td>0.54336</td>\n",
       "      <td>35.49400</td>\n",
       "      <td>15.95460</td>\n",
       "      <td>8.87237</td>\n",
       "      <td>-16.37838</td>\n",
       "      <td>24.91710</td>\n",
       "    </tr>\n",
       "  </tbody>\n",
       "</table>\n",
       "</div>"
      ],
      "text/plain": [
       "   pelvic_incidence  pelvic tilt  lumbar_lordosis_angle  sacral_slope  \\\n",
       "0          63.02782     22.55259               39.60912      40.47523   \n",
       "1          39.05695     10.06099               25.01538      28.99596   \n",
       "2          68.83202     22.21848               50.09219      46.61354   \n",
       "3          69.29701     24.65288               44.31124      44.64413   \n",
       "4          49.71286      9.65207               28.31741      40.06078   \n",
       "\n",
       "   pelvic_radius  degree_spondylolisthesis  pelvic_slope  Direct_tilt  \\\n",
       "0       98.67292                  -0.25440       0.74450     12.56610   \n",
       "1      114.40543                   4.56426       0.41519     12.88740   \n",
       "2      105.98514                  -3.53032       0.47489     26.83430   \n",
       "3      101.86850                  11.21152       0.36935     23.56030   \n",
       "4      108.16872                   7.91850       0.54336     35.49400   \n",
       "\n",
       "   thoracic_slope  cervical_tilt  sacrum_angle  scoliosis_slope  \n",
       "0        14.53860       15.30468     -28.65850         43.51230  \n",
       "1        17.53230       16.78486     -25.53061         16.11020  \n",
       "2        17.48610       16.65897     -29.03189         19.22210  \n",
       "3        12.70740       11.42447     -30.47025         18.83290  \n",
       "4        15.95460        8.87237     -16.37838         24.91710  "
      ]
     },
     "execution_count": 173,
     "metadata": {},
     "output_type": "execute_result"
    }
   ],
   "source": [
    "X.head()"
   ]
  },
  {
   "cell_type": "code",
   "execution_count": 174,
   "id": "a940c67d",
   "metadata": {},
   "outputs": [],
   "source": [
    "#importing train_test_split\n",
    "from sklearn.model_selection import train_test_split\n",
    "x_train, x_test, y_train, y_test = train_test_split(X, Y, test_size=0.30, random_state=1, stratify=Y)"
   ]
  },
  {
   "cell_type": "code",
   "execution_count": 175,
   "id": "4f2605ed",
   "metadata": {},
   "outputs": [
    {
     "name": "stdout",
     "output_type": "stream",
     "text": [
      "70.00% data is in training set\n",
      "30.00% data is in test set\n"
     ]
    }
   ],
   "source": [
    "print(\"{0:0.2f}% data is in training set\".format((len(x_train)/len(df.index)) * 100))\n",
    "print(\"{0:0.2f}% data is in test set\".format((len(x_test)/len(df.index)) * 100))"
   ]
  },
  {
   "cell_type": "code",
   "execution_count": 176,
   "id": "238baec8",
   "metadata": {},
   "outputs": [
    {
     "name": "stdout",
     "output_type": "stream",
     "text": [
      "Original Status True Values    : 210 (67.74%)\n",
      "Original Status False Values   : 100 (32.26%)\n",
      "\n",
      "Training Status True Values    : 147 (67.74%)\n",
      "Training Status False Values   : 70 (32.26%)\n",
      "\n",
      "Test Status True Values        : 63 (67.74%)\n",
      "Test Status False Values       : 30 (32.26%)\n",
      "\n"
     ]
    }
   ],
   "source": [
    "print(\"Original Status True Values    : {0} ({1:0.2f}%)\".format(len(df.loc[df['Status'] == 1]), (len(df.loc[df['Status'] == 1])/len(df.index)) * 100))\n",
    "print(\"Original Status False Values   : {0} ({1:0.2f}%)\".format(len(df.loc[df['Status'] == 0]), (len(df.loc[df['Status'] == 0])/len(df.index)) * 100))\n",
    "print(\"\")\n",
    "print(\"Training Status True Values    : {0} ({1:0.2f}%)\".format(len(y_train[y_train[:] == 1]), (len(y_train[y_train[:] == 1])/len(y_train)) * 100))\n",
    "print(\"Training Status False Values   : {0} ({1:0.2f}%)\".format(len(y_train[y_train[:] == 0]), (len(y_train[y_train[:] == 0])/len(y_train)) * 100))\n",
    "print(\"\")\n",
    "print(\"Test Status True Values        : {0} ({1:0.2f}%)\".format(len(y_test[y_test[:] == 1]), (len(y_test[y_test[:] == 1])/len(y_test)) * 100))\n",
    "print(\"Test Status False Values       : {0} ({1:0.2f}%)\".format(len(y_test[y_test[:] == 0]), (len(y_test[y_test[:] == 0])/len(y_test)) * 100))\n",
    "print(\"\")"
   ]
  },
  {
   "cell_type": "code",
   "execution_count": 177,
   "id": "6637fbf3",
   "metadata": {},
   "outputs": [
    {
     "name": "stdout",
     "output_type": "stream",
     "text": [
      "        0       1        2        3        4       5        6       7  \\\n",
      "0 0.02320 0.09967 -0.01676 -0.07647 -0.03163 0.17252 -0.14859 0.00865   \n",
      "\n",
      "         8       9       10       11  intercept  \n",
      "0 -0.01819 0.21316 -0.00896 -0.00247    1.12907  \n"
     ]
    }
   ],
   "source": [
    "# Fit the model on train\n",
    "model = LogisticRegression(solver=\"liblinear\", random_state=1)\n",
    "model.fit(x_train, y_train)\n",
    "#predict on test\n",
    "y_predict = model.predict(x_test)\n",
    "\n",
    "\n",
    "coef_df = pd.DataFrame(model.coef_)\n",
    "coef_df['intercept'] = model.intercept_\n",
    "print(coef_df)"
   ]
  },
  {
   "cell_type": "code",
   "execution_count": 178,
   "id": "fad469f5",
   "metadata": {},
   "outputs": [
    {
     "name": "stdout",
     "output_type": "stream",
     "text": [
      "0.8494623655913979\n"
     ]
    }
   ],
   "source": [
    "model_score = model.score(x_test, y_test)\n",
    "print(model_score)"
   ]
  },
  {
   "cell_type": "code",
   "execution_count": 179,
   "id": "2ba58ed0",
   "metadata": {},
   "outputs": [
    {
     "data": {
      "image/png": "[encoded data removed]",
      "text/plain": [
       "<Figure size 504x360 with 2 Axes>"
      ]
     },
     "metadata": {},
     "output_type": "display_data"
    }
   ],
   "source": [
    "# Print the confusion matrix \n",
    "cm=metrics.confusion_matrix(y_test, y_predict, labels=[1, 0])\n",
    "\n",
    "df_cm = pd.DataFrame(cm, index = [i for i in [\"Status Actual 1\",\"Status Actual 0\"]],\n",
    "                  columns = [i for i in [\"Status Predict 1\",\"Status Predict 0\"]])\n",
    "plt.figure(figsize = (7,5))\n",
    "sns.heatmap(df_cm, annot=True,fmt='g')\n",
    "plt.show()"
   ]
  },
  {
   "cell_type": "code",
   "execution_count": 180,
   "id": "0657798b",
   "metadata": {},
   "outputs": [
    {
     "name": "stdout",
     "output_type": "stream",
     "text": [
      "Accuracy :: Train  1.0  :: Test  0.7956989247311828\n",
      "Recall :: Train  1.0  :: Test  0.8253968253968254\n"
     ]
    }
   ],
   "source": [
    "# Use the DecisionTreeClassifier\n",
    "model = DecisionTreeClassifier(criterion='gini')\n",
    "model.fit(x_train, y_train)\n",
    "ytrain_predict = model.predict(x_train)\n",
    "ytest_predict = model.predict(x_test)\n",
    "print(\"Accuracy :: Train \", model.score(x_train, y_train), \" :: Test \", model.score(x_test, y_test))\n",
    "print(\"Recall :: Train \", metrics.recall_score(y_train, ytrain_predict), \" :: Test \", metrics.recall_score(y_test, ytest_predict))"
   ]
  },
  {
   "cell_type": "code",
   "execution_count": 181,
   "id": "794b6b32",
   "metadata": {},
   "outputs": [],
   "source": [
    "# defining a function to compute different metrics to check performance of a classification model built using sklearn\n",
    "\n",
    "def model_performance_classification_sklearn_with_threshold(model, predictors, target, threshold=0.5):\n",
    "    \"\"\"\n",
    "    Function to compute different metrics, based on the threshold specified, to check classification model performance\n",
    "\n",
    "    model: classifier\n",
    "    predictors: independent variables\n",
    "    target: dependent variable\n",
    "    threshold: threshold for classifying the observation as class 1\n",
    "    \"\"\"\n",
    "\n",
    "    # predicting using the independent variables\n",
    "    pred_prob = model.predict_proba(predictors)[:, 1]\n",
    "    pred_thres = pred_prob > threshold\n",
    "    pred = np.round(pred_thres)\n",
    "\n",
    "    acc = accuracy_score(target, pred)  # to compute Accuracy\n",
    "    recall = recall_score(target, pred)  # to compute Recall\n",
    "    precision = precision_score(target, pred)  # to compute Precision\n",
    "    f1 = f1_score(target, pred)  # to compute F1-score\n",
    "\n",
    "    # creating a dataframe of metrics\n",
    "    df_perf = pd.DataFrame(\n",
    "        {\n",
    "            \"Accuracy\": acc,\n",
    "            \"Recall\": recall,\n",
    "            \"Precision\": precision,\n",
    "            \"F1\": f1,\n",
    "        },\n",
    "        index=[0],\n",
    "    )\n",
    "\n",
    "    return df_perf"
   ]
  },
  {
   "cell_type": "code",
   "execution_count": 182,
   "id": "ce8875ac",
   "metadata": {},
   "outputs": [],
   "source": [
    "# defining a function to plot the confusion_matrix of a classification model built using sklearn\n",
    "def confusion_matrix_sklearn_with_threshold(model, predictors, target, threshold=0.5):\n",
    "    \"\"\"\n",
    "    To plot the confusion_matrix, based on the threshold specified, with percentages\n",
    "\n",
    "    model: classifier\n",
    "    predictors: independent variables\n",
    "    target: dependent variable\n",
    "    threshold: threshold for classifying the observation as class 1\n",
    "    \"\"\"\n",
    "    pred_prob = model.predict_proba(predictors)[:, 1]\n",
    "    pred_thres = pred_prob > threshold\n",
    "    y_pred = np.round(pred_thres)\n",
    "\n",
    "    cm = confusion_matrix(target, y_pred)\n",
    "    labels = np.asarray(\n",
    "        [\n",
    "            [\"{0:0.0f}\".format(item) + \"\\n{0:.2%}\".format(item / cm.flatten().sum())]\n",
    "            for item in cm.flatten()\n",
    "        ]\n",
    "    ).reshape(2, 2)\n",
    "\n",
    "    plt.figure(figsize=(6, 4))\n",
    "    sns.heatmap(cm, annot=labels, fmt=\"\")\n",
    "    plt.ylabel(\"True label\")\n",
    "    plt.xlabel(\"Predicted label\")"
   ]
  },
  {
   "cell_type": "code",
   "execution_count": 183,
   "id": "345bf3d9",
   "metadata": {},
   "outputs": [],
   "source": [
    "model = LogisticRegression(solver=\"newton-cg\", random_state=1)\n",
    "lg = model.fit(x_train, y_train)"
   ]
  },
  {
   "cell_type": "code",
   "execution_count": 184,
   "id": "26f96cd4",
   "metadata": {},
   "outputs": [
    {
     "name": "stdout",
     "output_type": "stream",
     "text": [
      "Training performance:\n"
     ]
    },
    {
     "data": {
      "text/html": [
       "<div>\n",
       "<style scoped>\n",
       "    .dataframe tbody tr th:only-of-type {\n",
       "        vertical-align: middle;\n",
       "    }\n",
       "\n",
       "    .dataframe tbody tr th {\n",
       "        vertical-align: top;\n",
       "    }\n",
       "\n",
       "    .dataframe thead th {\n",
       "        text-align: right;\n",
       "    }\n",
       "</style>\n",
       "<table border=\"1\" class=\"dataframe\">\n",
       "  <thead>\n",
       "    <tr style=\"text-align: right;\">\n",
       "      <th></th>\n",
       "      <th>Accuracy</th>\n",
       "      <th>Recall</th>\n",
       "      <th>Precision</th>\n",
       "      <th>F1</th>\n",
       "    </tr>\n",
       "  </thead>\n",
       "  <tbody>\n",
       "    <tr>\n",
       "      <th>0</th>\n",
       "      <td>0.86636</td>\n",
       "      <td>0.89796</td>\n",
       "      <td>0.90411</td>\n",
       "      <td>0.90102</td>\n",
       "    </tr>\n",
       "  </tbody>\n",
       "</table>\n",
       "</div>"
      ],
      "text/plain": [
       "   Accuracy  Recall  Precision      F1\n",
       "0   0.86636 0.89796    0.90411 0.90102"
      ]
     },
     "execution_count": 184,
     "metadata": {},
     "output_type": "execute_result"
    }
   ],
   "source": [
    "log_reg_model_train_perf = model_performance_classification_sklearn_with_threshold(\n",
    "    lg, x_train, y_train\n",
    ")\n",
    "\n",
    "print(\"Training performance:\")\n",
    "log_reg_model_train_perf"
   ]
  },
  {
   "cell_type": "code",
   "execution_count": 195,
   "id": "817d922f",
   "metadata": {},
   "outputs": [],
   "source": [
    "# defining a function to compute different metrics to check performance of a classification model built using sklearn\n",
    "def model_performance_classification_sklearn(model, predictors, target):\n",
    "    \"\"\"\n",
    "    Function to compute different metrics to check classification model performance\n",
    "\n",
    "    model: classifier\n",
    "    predictors: independent variables\n",
    "    target: dependent variable\n",
    "    \"\"\"\n",
    "\n",
    "    # predicting using the independent variables\n",
    "    pred = model.predict(predictors)\n",
    "\n",
    "    acc = accuracy_score(target, pred)  # to compute Accuracy\n",
    "    recall = recall_score(target, pred)  # to compute Recall\n",
    "    precision = precision_score(target, pred)  # to compute Precision\n",
    "    f1 = f1_score(target, pred)  # to compute F1-score\n",
    "\n",
    "    # creating a dataframe of metrics\n",
    "    df_perf = pd.DataFrame(\n",
    "        {\"Accuracy\": acc, \"Recall\": recall, \"Precision\": precision, \"F1\": f1,},\n",
    "        index=[0],\n",
    "    )\n",
    "\n",
    "    return df_perf"
   ]
  },
  {
   "cell_type": "code",
   "execution_count": 203,
   "id": "fc6314e0",
   "metadata": {},
   "outputs": [
    {
     "data": {
      "text/plain": [
       "DecisionTreeClassifier(criterion='entropy', max_depth=array([5]),\n",
       "                       min_impurity_decrease=1e-06, random_state=42)"
      ]
     },
     "execution_count": 203,
     "metadata": {},
     "output_type": "execute_result"
    }
   ],
   "source": [
    "# Choose the type of classifier.\n",
    "estimator = DecisionTreeClassifier(random_state=42)\n",
    "\n",
    "# Grid of parameters to choose from\n",
    "\n",
    "parameters = {\n",
    "    \"max_depth\": [np.arange(5, 10, 15), None],\n",
    "    \"criterion\": [\"gini\", \"entropy\"],\n",
    "    \"splitter\": [\"best\", \"random\"],\n",
    "    \"min_impurity_decrease\": [0.000001, 0.00001, 0.0001],\n",
    "}\n",
    "\n",
    "# Type of scoring used to compare parameter combinations\n",
    "acc_scorer = make_scorer(recall_score)\n",
    "\n",
    "# Run the grid search\n",
    "grid_obj = GridSearchCV(estimator, parameters, scoring=acc_scorer, cv=3)\n",
    "grid_obj = grid_obj.fit(x_train, y_train)\n",
    "\n",
    "# Set the clf to the best combination of parameters\n",
    "estimator = grid_obj.best_estimator_\n",
    "\n",
    "# Fit the best algorithm to the data.\n",
    "estimator.fit(x_train, y_train)\n"
   ]
  },
  {
   "cell_type": "code",
   "execution_count": 204,
   "id": "4145cc52",
   "metadata": {},
   "outputs": [
    {
     "data": {
      "text/plain": [
       "DecisionTreeClassifier(criterion='entropy', max_depth=array([5]),\n",
       "                       min_impurity_decrease=1e-06, random_state=42)"
      ]
     },
     "execution_count": 204,
     "metadata": {},
     "output_type": "execute_result"
    }
   ],
   "source": [
    "grid_obj.best_estimator_"
   ]
  },
  {
   "cell_type": "code",
   "execution_count": 205,
   "id": "b137d189",
   "metadata": {},
   "outputs": [
    {
     "data": {
      "text/plain": [
       "DecisionTreeClassifier(random_state=1)"
      ]
     },
     "execution_count": 205,
     "metadata": {},
     "output_type": "execute_result"
    }
   ],
   "source": [
    "model = DecisionTreeClassifier(criterion=\"gini\", random_state=1)\n",
    "model.fit(x_train, y_train)"
   ]
  },
  {
   "cell_type": "code",
   "execution_count": 206,
   "id": "7c206d1b",
   "metadata": {},
   "outputs": [
    {
     "data": {
      "text/html": [
       "<div>\n",
       "<style scoped>\n",
       "    .dataframe tbody tr th:only-of-type {\n",
       "        vertical-align: middle;\n",
       "    }\n",
       "\n",
       "    .dataframe tbody tr th {\n",
       "        vertical-align: top;\n",
       "    }\n",
       "\n",
       "    .dataframe thead th {\n",
       "        text-align: right;\n",
       "    }\n",
       "</style>\n",
       "<table border=\"1\" class=\"dataframe\">\n",
       "  <thead>\n",
       "    <tr style=\"text-align: right;\">\n",
       "      <th></th>\n",
       "      <th>Accuracy</th>\n",
       "      <th>Recall</th>\n",
       "      <th>Precision</th>\n",
       "      <th>F1</th>\n",
       "    </tr>\n",
       "  </thead>\n",
       "  <tbody>\n",
       "    <tr>\n",
       "      <th>0</th>\n",
       "      <td>0.93088</td>\n",
       "      <td>0.97959</td>\n",
       "      <td>0.92308</td>\n",
       "      <td>0.95050</td>\n",
       "    </tr>\n",
       "  </tbody>\n",
       "</table>\n",
       "</div>"
      ],
      "text/plain": [
       "   Accuracy  Recall  Precision      F1\n",
       "0   0.93088 0.97959    0.92308 0.95050"
      ]
     },
     "execution_count": 206,
     "metadata": {},
     "output_type": "execute_result"
    }
   ],
   "source": [
    "decision_tree_tune_perf_train = model_performance_classification_sklearn(\n",
    "    estimator, x_train, y_train\n",
    ")\n",
    "decision_tree_tune_perf_train"
   ]
  },
  {
   "cell_type": "code",
   "execution_count": 207,
   "id": "9190e27e",
   "metadata": {},
   "outputs": [],
   "source": [
    "clf = DecisionTreeClassifier(random_state=1)\n",
    "path = clf.cost_complexity_pruning_path(x_train, y_train)\n",
    "ccp_alphas, impurities = path.ccp_alphas, path.impurities"
   ]
  },
  {
   "cell_type": "code",
   "execution_count": 193,
   "id": "12b0d197",
   "metadata": {},
   "outputs": [
    {
     "data": {
      "text/html": [
       "<div>\n",
       "<style scoped>\n",
       "    .dataframe tbody tr th:only-of-type {\n",
       "        vertical-align: middle;\n",
       "    }\n",
       "\n",
       "    .dataframe tbody tr th {\n",
       "        vertical-align: top;\n",
       "    }\n",
       "\n",
       "    .dataframe thead th {\n",
       "        text-align: right;\n",
       "    }\n",
       "</style>\n",
       "<table border=\"1\" class=\"dataframe\">\n",
       "  <thead>\n",
       "    <tr style=\"text-align: right;\">\n",
       "      <th></th>\n",
       "      <th>ccp_alphas</th>\n",
       "      <th>impurities</th>\n",
       "    </tr>\n",
       "  </thead>\n",
       "  <tbody>\n",
       "    <tr>\n",
       "      <th>0</th>\n",
       "      <td>0.00000</td>\n",
       "      <td>0.00000</td>\n",
       "    </tr>\n",
       "    <tr>\n",
       "      <th>1</th>\n",
       "      <td>0.00456</td>\n",
       "      <td>0.00913</td>\n",
       "    </tr>\n",
       "    <tr>\n",
       "      <th>2</th>\n",
       "      <td>0.00691</td>\n",
       "      <td>0.01604</td>\n",
       "    </tr>\n",
       "    <tr>\n",
       "      <th>3</th>\n",
       "      <td>0.00691</td>\n",
       "      <td>0.02986</td>\n",
       "    </tr>\n",
       "    <tr>\n",
       "      <th>4</th>\n",
       "      <td>0.00737</td>\n",
       "      <td>0.03724</td>\n",
       "    </tr>\n",
       "    <tr>\n",
       "      <th>5</th>\n",
       "      <td>0.00776</td>\n",
       "      <td>0.06052</td>\n",
       "    </tr>\n",
       "    <tr>\n",
       "      <th>6</th>\n",
       "      <td>0.00889</td>\n",
       "      <td>0.06941</td>\n",
       "    </tr>\n",
       "    <tr>\n",
       "      <th>7</th>\n",
       "      <td>0.01083</td>\n",
       "      <td>0.09106</td>\n",
       "    </tr>\n",
       "    <tr>\n",
       "      <th>8</th>\n",
       "      <td>0.01158</td>\n",
       "      <td>0.10264</td>\n",
       "    </tr>\n",
       "    <tr>\n",
       "      <th>9</th>\n",
       "      <td>0.01317</td>\n",
       "      <td>0.11581</td>\n",
       "    </tr>\n",
       "    <tr>\n",
       "      <th>10</th>\n",
       "      <td>0.01317</td>\n",
       "      <td>0.12898</td>\n",
       "    </tr>\n",
       "    <tr>\n",
       "      <th>11</th>\n",
       "      <td>0.01436</td>\n",
       "      <td>0.14334</td>\n",
       "    </tr>\n",
       "    <tr>\n",
       "      <th>12</th>\n",
       "      <td>0.01467</td>\n",
       "      <td>0.17269</td>\n",
       "    </tr>\n",
       "    <tr>\n",
       "      <th>13</th>\n",
       "      <td>0.01496</td>\n",
       "      <td>0.18765</td>\n",
       "    </tr>\n",
       "    <tr>\n",
       "      <th>14</th>\n",
       "      <td>0.02655</td>\n",
       "      <td>0.21420</td>\n",
       "    </tr>\n",
       "    <tr>\n",
       "      <th>15</th>\n",
       "      <td>0.05259</td>\n",
       "      <td>0.26679</td>\n",
       "    </tr>\n",
       "    <tr>\n",
       "      <th>16</th>\n",
       "      <td>0.17025</td>\n",
       "      <td>0.43704</td>\n",
       "    </tr>\n",
       "  </tbody>\n",
       "</table>\n",
       "</div>"
      ],
      "text/plain": [
       "    ccp_alphas  impurities\n",
       "0      0.00000     0.00000\n",
       "1      0.00456     0.00913\n",
       "2      0.00691     0.01604\n",
       "3      0.00691     0.02986\n",
       "4      0.00737     0.03724\n",
       "5      0.00776     0.06052\n",
       "6      0.00889     0.06941\n",
       "7      0.01083     0.09106\n",
       "8      0.01158     0.10264\n",
       "9      0.01317     0.11581\n",
       "10     0.01317     0.12898\n",
       "11     0.01436     0.14334\n",
       "12     0.01467     0.17269\n",
       "13     0.01496     0.18765\n",
       "14     0.02655     0.21420\n",
       "15     0.05259     0.26679\n",
       "16     0.17025     0.43704"
      ]
     },
     "execution_count": 193,
     "metadata": {},
     "output_type": "execute_result"
    }
   ],
   "source": [
    "pd.DataFrame(path)"
   ]
  },
  {
   "cell_type": "code",
   "execution_count": 210,
   "id": "500058fa",
   "metadata": {},
   "outputs": [],
   "source": [
    "column_names = list(X.columns)\n",
    "feature_names = column_names"
   ]
  },
  {
   "cell_type": "code",
   "execution_count": 211,
   "id": "b9e02d46",
   "metadata": {},
   "outputs": [
    {
     "data": {
      "image/png": "[encoded data removed]",
      "text/plain": [
       "<Figure size 864x864 with 1 Axes>"
      ]
     },
     "metadata": {},
     "output_type": "display_data"
    }
   ],
   "source": [
    "importances = model.feature_importances_\n",
    "indices = np.argsort(importances)\n",
    "\n",
    "plt.figure(figsize=(12, 12))\n",
    "plt.title(\"Feature Importances\")\n",
    "plt.barh(range(len(indices)), importances[indices], color=\"violet\", align=\"center\")\n",
    "plt.yticks(range(len(indices)), [feature_names[i] for i in indices])\n",
    "plt.xlabel(\"Relative Importance\")\n",
    "plt.show()"
   ]
  },
  {
   "cell_type": "code",
   "execution_count": 212,
   "id": "979ca374",
   "metadata": {},
   "outputs": [
    {
     "data": {
      "image/png": "[encoded data removed]",
      "text/plain": [
       "<Figure size 1080x360 with 1 Axes>"
      ]
     },
     "metadata": {},
     "output_type": "display_data"
    }
   ],
   "source": [
    "fig, ax = plt.subplots(figsize=(15, 5))\n",
    "ax.plot(ccp_alphas[:-1], impurities[:-1], marker=\"o\", drawstyle=\"steps-post\")\n",
    "ax.set_xlabel(\"effective alpha\")\n",
    "ax.set_ylabel(\"total impurity of leaves\")\n",
    "ax.set_title(\"Total Impurity vs effective alpha for training set\")\n",
    "plt.show()"
   ]
  },
  {
   "cell_type": "code",
   "execution_count": 214,
   "id": "a6bcddb0",
   "metadata": {},
   "outputs": [
    {
     "name": "stdout",
     "output_type": "stream",
     "text": [
      "Number of nodes in the last tree is: 1 with ccp_alpha: 0.17025215923580223\n"
     ]
    }
   ],
   "source": [
    "clfs = []\n",
    "for ccp_alpha in ccp_alphas:\n",
    "    clf = DecisionTreeClassifier(random_state=1, ccp_alpha=ccp_alpha)\n",
    "    clf.fit(x_train, y_train)\n",
    "    clfs.append(clf)\n",
    "print(\n",
    "    \"Number of nodes in the last tree is: {} with ccp_alpha: {}\".format(\n",
    "        clfs[-1].tree_.node_count, ccp_alphas[-1]\n",
    "    )\n",
    ")"
   ]
  },
  {
   "cell_type": "code",
   "execution_count": 216,
   "id": "0a633850",
   "metadata": {},
   "outputs": [],
   "source": [
    "recall_train = []\n",
    "for clf in clfs:\n",
    "    pred_train = clf.predict(x_train)\n",
    "    values_train = recall_score(y_train, pred_train)\n",
    "    recall_train.append(values_train)"
   ]
  },
  {
   "cell_type": "code",
   "execution_count": 217,
   "id": "b3560e39",
   "metadata": {},
   "outputs": [],
   "source": [
    "recall_test = []\n",
    "for clf in clfs:\n",
    "    pred_test = clf.predict(x_test)\n",
    "    values_test = recall_score(y_test, pred_test)\n",
    "    recall_test.append(values_test)"
   ]
  },
  {
   "cell_type": "code",
   "execution_count": 231,
   "id": "fb45f633",
   "metadata": {},
   "outputs": [
    {
     "data": {
      "image/png": "[encoded data removed]",
      "text/plain": [
       "<Figure size 1080x360 with 1 Axes>"
      ]
     },
     "metadata": {},
     "output_type": "display_data"
    }
   ],
   "source": [
    "fig, ax = plt.subplots(figsize=(15, 5))\n",
    "values=range(len(ccp_alphas))\n",
    "ax.set_xlabel(\"alpha\")\n",
    "ax.set_ylabel(\"Recall\")\n",
    "ax.set_title(\"Recall vs alpha for training and testing sets\")\n",
    "ax.plot(ccp_alphas, recall_train, marker=\"o\", label=\"train\", drawstyle=\"steps-post\")\n",
    "ax.plot(ccp_alphas, recall_test, marker=\"o\", label=\"test\", drawstyle=\"steps-post\")\n",
    "ax.legend()\n",
    "#plt.xticks(ccp_alphas, values)\n",
    "plt.show()"
   ]
  },
  {
   "cell_type": "code",
   "execution_count": null,
   "id": "a2e5dabd",
   "metadata": {},
   "outputs": [],
   "source": []
  }
 ],
 "metadata": {
  "kernelspec": {
   "display_name": "Python 3 (ipykernel)",
   "language": "python",
   "name": "python3"
  },
  "language_info": {
   "codemirror_mode": {
    "name": "ipython",
    "version": 3
   },
   "file_extension": ".py",
   "mimetype": "text/x-python",
   "name": "python",
   "nbconvert_exporter": "python",
   "pygments_lexer": "ipython3",
   "version": "3.9.13"
  }
 },
 "nbformat": 4,
 "nbformat_minor": 5
}
